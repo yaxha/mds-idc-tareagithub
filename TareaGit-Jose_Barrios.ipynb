{
 "cells": [
  {
   "cell_type": "markdown",
   "metadata": {},
   "source": [
    "# Tarea de investigación: Control de versiones con Git\n",
    "**José Barrios - 20007192**\n",
    "\n",
    "## Control de versiones (de manera incorrecta)\n",
    "Personalmente, en el colegio, me encontraba con casos en los que mis trabajos los iba nombrando como:\n",
    "* Hoja de trabajo \n",
    "* Hoja de trabajo v2\n",
    "* Hoja de trabajo v2 con modificaciones\n",
    "* Hoja de trabajo final\n",
    "\n",
    "Por supuesto, esto funcionaba en un ambiente personal, pero no es lo adecuado para llevar el control de las modificaciones realizadas, porque ni sabía qué agregué o cambié o quité. \n",
    "\n",
    "Una herramienta que ayude a llevar un control adecuado de las modificaciones históricas realizadas permitiendo la colaboración hubiera sido mucho mejor para mí.\n",
    "\n",
    "## Control de versiones (haciendo las cosas bien)\n",
    "Al hablar de control de versiones, la herramienta más conocida es Git (no confundir con Github, que es un repositorio para control de versiones con Git). Git es un sistema _open source_ creado por Linus Torvalds en 2005 -creador del kernel de Linux-.\n",
    "\n",
    "Git tiene varias ventajas:\n",
    "* Ampliamente compatible con varios programas e IDEs\n",
    "* Conserva un historial de cambios realizados\n",
    "* Mejora la manera de auditar los cambios\n",
    "* Varias personas pueden trabajar en un mismo repositorio al mismo tiempo\n",
    "* Herramientas eficientes/inteligentes para la resolución de conflictos al hacer _merge_\n",
    "* Mantiene metadata de los cambios realizados (quién, cuándo, razón, etc.)\n",
    "\n",
    "## Generalidades de Git\n",
    "### Snapshot\n",
    "Git contiene una estructura similar a la de carpetas y archivos (como la de cualquier explorador de archivos) donde las carpetas serían \"_trees_\" y los arvhivos, \"_blobs_\".\n",
    "\n",
    "Git crea un _snapshot_ del estado del árbol y su contenido para llevar un historial de cambios en él. Los snapshots son simbolizados como rutas de cambios en el tiempo.\n",
    "<img src=\"https://www.atlassian.com/dam/jcr:8e57216e-269e-49e6-aff2-5c03b8512e73/hero.svg\">\n",
    "\n",
    "Git organiza el historial de cambios por medio de _branches_, donde el branch original es el _master_. De cada snapshot puede surgir otro branch. Por ejemplo, tenemos la versión 1 de nuestro sistema y de esta versión desprendemos otra únicamente para resolver bugs para que en el branch master solamente se implementen features nuevos. Esto permite a distintos equipos enfocarse en su especialidad y fusionar su trabajo en un posterior snapshot.\n",
    "\n",
    "Ahora, el término snapshot se refiere en realidad a _commit_. Este guarda metadata del estado actual del árbol. Git almacena el nombre de los commits como hash y este es único por commit.\n",
    "\n",
    "Git almacena una tabla de referencias para darle un nombre \"más humano\" a cada commit, permitiendo acceder al commit por este nombre y no solo por el hash.\n",
    "\n",
    "### Repositorio\n",
    "Es el conjunto de objetos (trees, blobs, metadata, referencias, apuntadores a los que se les lleva un control de cambios.\n",
    "\n",
    "### Estados de un commit\n",
    "Localmente, nuesto entorno de trabajo tiene los archivos que actualmente son controlados (o que se agregarán al repositorio). En general, un cambio tiene 3 ubicaciones: \n",
    "1. Cambio local: se tienen los archivos en el área de trabajo para poder editarlos \n",
    "2. Staging area: paso intermedio para comunicarle al sistema cuáles cambios serán trasladados al commit\n",
    "3. Repositorio: la estructura se encuentra versionada\n",
    "\n",
    "<img src=\"https://cdn-images-1.medium.com/max/800/1*diRLm1S5hkVoh5qeArND0Q.png\">\n",
    "\n",
    "\n",
    "## Ejemplos de comandos\n",
    "### Comandos de Jupyter\n",
    "Jupyter tiene la capacidad de ejecutar codigo no nativo con una funcionalidad especial denominada \"magic cells\". \n",
    "Una celda mágica se consigue anteponiendo el símbolo \"%\" al inicio de la celda tipo código, seguido de los comandos que se desean ejecutar.\n",
    "\n",
    "Por ejemplo, el listado de los archivos y carpetas (ocultas) en el directorio del notebook:"
   ]
  },
  {
   "cell_type": "code",
   "execution_count": 9,
   "metadata": {},
   "outputs": [
    {
     "name": "stdout",
     "output_type": "stream",
     "text": [
      " El volumen de la unidad C no tiene etiqueta.\n",
      " El número de serie del volumen es: 5CBE-9BC7\n",
      "\n",
      " Directorio de C:\\testgit\n",
      "\n",
      "29/03/2020  00:42    <DIR>          .\n",
      "29/03/2020  00:42    <DIR>          ..\n",
      "29/03/2020  00:48                 0 test.txt\n",
      "               1 archivos              0 bytes\n",
      "               2 dirs   6,240,083,968 bytes libres\n"
     ]
    }
   ],
   "source": [
    "%ls"
   ]
  },
  {
   "cell_type": "markdown",
   "metadata": {},
   "source": [
    "Creamos una carpeta y archivo para realizar pruebas en git:"
   ]
  },
  {
   "cell_type": "code",
   "execution_count": 8,
   "metadata": {},
   "outputs": [
    {
     "name": "stdout",
     "output_type": "stream",
     "text": [
      "C:\\testgit\n"
     ]
    },
    {
     "name": "stderr",
     "output_type": "stream",
     "text": [
      "Ya existe el subdirectorio o el archivo C:\\testgit.\n",
      "Acceso denegado.\n"
     ]
    },
    {
     "name": "stdout",
     "output_type": "stream",
     "text": [
      " El volumen de la unidad C no tiene etiqueta.\n",
      " El número de serie del volumen es: 5CBE-9BC7\n",
      "\n",
      " Directorio de C:\\testgit\n",
      "\n",
      "29/03/2020  00:42    <DIR>          .\n",
      "29/03/2020  00:42    <DIR>          ..\n",
      "29/03/2020  00:48                 0 test.txt\n",
      "               1 archivos              0 bytes\n",
      "               2 dirs   6,240,116,736 bytes libres\n"
     ]
    }
   ],
   "source": [
    "%mkdir C:\\testgit\n",
    "%cd C:\\testgit\n",
    "!NUL > test.txt\n",
    "!dir"
   ]
  },
  {
   "cell_type": "markdown",
   "metadata": {},
   "source": [
    "### Comandos de git\n",
    "Para ejecutar comandos de git, se coloca el prefijo \"!git\" seguido de las instrucciones necesarias.\n",
    "\n",
    "**Init**: Crea un repositorio local en la ubicación previamente seleccionada. En este ejemplo sería en la carpeta que creamos en el paso anterior."
   ]
  },
  {
   "cell_type": "code",
   "execution_count": 10,
   "metadata": {},
   "outputs": [
    {
     "name": "stdout",
     "output_type": "stream",
     "text": [
      "Initialized empty Git repository in C:/testgit/.git/\n"
     ]
    }
   ],
   "source": [
    "!git init"
   ]
  },
  {
   "cell_type": "markdown",
   "metadata": {},
   "source": [
    "**Add**: agrega el o los archivos especificados al staging area, dejandolos listos para realizar un commit."
   ]
  },
  {
   "cell_type": "code",
   "execution_count": 11,
   "metadata": {},
   "outputs": [],
   "source": [
    "!git add test.txt"
   ]
  },
  {
   "cell_type": "markdown",
   "metadata": {},
   "source": [
    "**Status**: indica el estado actual del repositorio."
   ]
  },
  {
   "cell_type": "code",
   "execution_count": 12,
   "metadata": {},
   "outputs": [
    {
     "name": "stdout",
     "output_type": "stream",
     "text": [
      "On branch master\n",
      "\n",
      "No commits yet\n",
      "\n",
      "Changes to be committed:\n",
      "  (use \"git rm --cached <file>...\" to unstage)\n",
      "\tnew file:   test.txt\n",
      "\n"
     ]
    }
   ],
   "source": [
    "!git status"
   ]
  },
  {
   "cell_type": "markdown",
   "metadata": {},
   "source": [
    "**Config**: permite configurar los parametros de la sesión actual. Esto se obligatorio hacerlo en un inicio porque se requiere conocer _quién_ está realizando un commit. En este ejemplo se usará un dummy."
   ]
  },
  {
   "cell_type": "code",
   "execution_count": 14,
   "metadata": {},
   "outputs": [],
   "source": [
    "!git config --global user.email \"jose-bar@hotmail.com\"\n",
    "!git config --global user.name \"yaxha\""
   ]
  },
  {
   "cell_type": "markdown",
   "metadata": {},
   "source": [
    "**Commit**: moueve los cambios en staging area al control de versiones, creando un nuevo snapshot en el branch seleccionado. EN este ejemplo, el branch seleccionado es el master por default."
   ]
  },
  {
   "cell_type": "code",
   "execution_count": 15,
   "metadata": {},
   "outputs": [
    {
     "name": "stdout",
     "output_type": "stream",
     "text": [
      "[master (root-commit) f3197ce] Test.txt added\n",
      " 1 file changed, 0 insertions(+), 0 deletions(-)\n",
      " create mode 100644 test.txt\n"
     ]
    }
   ],
   "source": [
    "!git commit -m \"Test.txt added\""
   ]
  },
  {
   "cell_type": "markdown",
   "metadata": {},
   "source": [
    "A modo de ejemplo, agregaremos otro archivo y lo agregaremos al repositorio."
   ]
  },
  {
   "cell_type": "code",
   "execution_count": 17,
   "metadata": {},
   "outputs": [
    {
     "name": "stderr",
     "output_type": "stream",
     "text": [
      "Acceso denegado.\n"
     ]
    },
    {
     "name": "stdout",
     "output_type": "stream",
     "text": [
      "[master 2e28bea] Test_2.txt added\n",
      " 1 file changed, 0 insertions(+), 0 deletions(-)\n",
      " create mode 100644 test_2.txt\n"
     ]
    }
   ],
   "source": [
    "!NUL > test_2.txt\n",
    "!git add test_2.txt\n",
    "!git commit -m \"Test_2.txt added\""
   ]
  },
  {
   "cell_type": "markdown",
   "metadata": {},
   "source": [
    "**Log**: muestra los cambios realizados en los branches. Se le puede enviar parametros para que lo muestre gráficamente."
   ]
  },
  {
   "cell_type": "code",
   "execution_count": 18,
   "metadata": {},
   "outputs": [
    {
     "name": "stdout",
     "output_type": "stream",
     "text": [
      "* commit 2e28bea602474cc439aa4e10d424153778643e8b (HEAD -> master)\n",
      "| Author: yaxha <jose-bar@hotmail.com>\n",
      "| Date:   Sun Mar 29 01:09:14 2020 -0600\n",
      "| \n",
      "|     Test_2.txt added\n",
      "| \n",
      "* commit f3197ceab69f86ac63eab916b9c052aa06c8637a\n",
      "  Author: yaxha <jose-bar@hotmail.com>\n",
      "  Date:   Sun Mar 29 01:05:21 2020 -0600\n",
      "  \n",
      "      Test.txt added\n"
     ]
    }
   ],
   "source": [
    "!git log --all --graph --decorate"
   ]
  },
  {
   "cell_type": "code",
   "execution_count": 19,
   "metadata": {},
   "outputs": [],
   "source": [
    "!echo Hola mundo>test.txt"
   ]
  },
  {
   "cell_type": "markdown",
   "metadata": {},
   "source": [
    "**Diff**: muestra las diferencias entre el archivo local y el commit al que apunta el puntero HEAD."
   ]
  },
  {
   "cell_type": "code",
   "execution_count": 20,
   "metadata": {},
   "outputs": [
    {
     "name": "stdout",
     "output_type": "stream",
     "text": [
      "diff --git a/test.txt b/test.txt\n",
      "index e69de29..2d9b695 100644\n",
      "--- a/test.txt\n",
      "+++ b/test.txt\n",
      "@@ -0,0 +1 @@\n",
      "+Hola mundo\n"
     ]
    }
   ],
   "source": [
    "!git diff test.txt"
   ]
  },
  {
   "cell_type": "code",
   "execution_count": 21,
   "metadata": {},
   "outputs": [
    {
     "name": "stdout",
     "output_type": "stream",
     "text": [
      "[master f002f14] Saludo realizado en el archivo\n",
      " 1 file changed, 1 insertion(+)\n",
      "On branch master\n",
      "nothing to commit, working tree clean\n"
     ]
    }
   ],
   "source": [
    "!git add test.txt\n",
    "!git commit -m \"Saludo realizado en el archivo\"\n",
    "!git status"
   ]
  },
  {
   "cell_type": "code",
   "execution_count": 22,
   "metadata": {},
   "outputs": [
    {
     "name": "stdout",
     "output_type": "stream",
     "text": [
      "* commit f002f1452065f9e84730601a0f991b78f518c904 (HEAD -> master)\n",
      "| Author: yaxha <jose-bar@hotmail.com>\n",
      "| Date:   Sun Mar 29 01:20:43 2020 -0600\n",
      "| \n",
      "|     Saludo realizado en el archivo\n",
      "| \n",
      "* commit 2e28bea602474cc439aa4e10d424153778643e8b\n",
      "| Author: yaxha <jose-bar@hotmail.com>\n",
      "| Date:   Sun Mar 29 01:09:14 2020 -0600\n",
      "| \n",
      "|     Test_2.txt added\n",
      "| \n",
      "* commit f3197ceab69f86ac63eab916b9c052aa06c8637a\n",
      "  Author: yaxha <jose-bar@hotmail.com>\n",
      "  Date:   Sun Mar 29 01:05:21 2020 -0600\n",
      "  \n",
      "      Test.txt added\n"
     ]
    }
   ],
   "source": [
    "!git log --all --graph --decorate"
   ]
  },
  {
   "cell_type": "markdown",
   "metadata": {},
   "source": [
    "De los siguientes comandos solo se específicará su uso.\n",
    "\n",
    "Se debe aclarar que todos los comandos pueden tomar un sin fin de parametros, pero se indicarán los más comunes para fines didácticos.\n",
    "\n",
    "**Checkout**: muevel el puntero HEAD hacia el commit especificado. Si se le coloca el nombre de un branch, moverá el puntero hacia el último commit de dicho branch. \n",
    "    \n",
    "    >git checkout _<nombre commit> | <nombre branch>_\n",
    "    \n",
    "**Diff**: Como se vio anteriormente, este comando compara los cambios entre un archivo en el repositorio local y un commit, si este se le espedifica, si no, asume que es el commit donde está el puntero en ese momento.\n",
    "\n",
    "    >git diff [commit] <archivo>\n",
    "\n",
    "También se pueden comparar los cambios de un archivo entre dos commits.\n",
    "\n",
    "    >git diff [commit inicio] [commit fin] <archivo>\n",
    "    \n",
    "**Branch**: Permite acceder a la funcionalidad de branches. Si se coloca un nombre de branch, el puntero se moverá a esa branch o, si no existe, lo crea partiendo desde el commit donde está el puntero head en ese momento.\n",
    "    \n",
    "    >git branch <nombre branch>\n",
    "\n",
    "> Usar _>git checkout [branch]_ moverá el puntero a dicho branch y los cambios nuevos se harán en él\n",
    "\n",
    "**Merge**: combina los cambios entre el commit donde está el puntero y el branch que se le está eviando parametro.\n",
    "\n",
    "    >git merge <branch>\n",
    "    \n",
    "> Para resolver conflictos de merge manualmente: _> vim [archivo en conflicto]_ \n",
    "\n",
    "> luego _> git merge --continue_\n",
    "\n",
    "### Git remotes\n",
    "Git permite que varios usuarios trabajen sobre un mismo repositorio. Dichos usuarios tendrán su _working directory_, el _staging area_ y su repositorio local. Sin embargo, los cambios pueden ser subidos a un repositorio remoto, que es el que lleva el control general de las versiones.\n",
    "<img src=\"http://ashleywang.me/images/infra/git.png\">\n",
    "\n",
    "**Remote**: lista todos los usuarios y máquinas que tienen acceso y copias de nuestro repositorio\n",
    "    \n",
    "    >git remote\n",
    "\n",
    "El comando _remote_ se puede utilizar para solicitar el envío de cambios de un repositorio local a uno remoto.\n",
    "\n",
    "    >git remote <rep local> <dirección git remoto>\n",
    "\n",
    "**Push**: envía lo que haya en el reposotirio local. Incluso se le puede indicar a qué branch enviarlo.\n",
    "\n",
    "    >git push <rep local> <branch local>:<brach remoto>\n",
    "    \n",
    "> Si el branch remoto no existe, lo creará\n",
    "\n",
    "**Clone**: Compia un git completo o solo su último snapshot con el parametro _shallow_.\n",
    "    \n",
    "    >git clone [--shallow]\n",
    "    \n",
    "**Bisect**: Usando busqueda binaria, determina un código determinado cumple o no con alguna prueba unitaria y devuelve en qué commit empezó a fallar\n",
    "    \n",
    "    >git bisect\n",
    "    \n",
    "\n",
    "Existen muchísimos otros comandos, Git es una herramienta que ha madurado bastante desde su creación en 2005 y sigue evolucionando, por lo que se espera que esta introducción haya aclarado varios puntos de un mejor versionamiento de versiones y su uso."
   ]
  }
 ],
 "metadata": {
  "kernelspec": {
   "display_name": "Python 3",
   "language": "python",
   "name": "python3"
  },
  "language_info": {
   "codemirror_mode": {
    "name": "ipython",
    "version": 3
   },
   "file_extension": ".py",
   "mimetype": "text/x-python",
   "name": "python",
   "nbconvert_exporter": "python",
   "pygments_lexer": "ipython3",
   "version": "3.7.4"
  }
 },
 "nbformat": 4,
 "nbformat_minor": 4
}
